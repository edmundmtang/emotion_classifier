{
 "cells": [
  {
   "cell_type": "code",
   "execution_count": 1,
   "id": "972b31e1-c4cb-4de0-b0fe-ab740b1fee65",
   "metadata": {},
   "outputs": [],
   "source": [
    "import torch\n",
    "from transformers import BertTokenizer, BertForSequenceClassification\n",
    "\n",
    "import random\n",
    "import numpy as np"
   ]
  },
  {
   "cell_type": "markdown",
   "id": "1b128a94-06d1-4381-8b84-9fadbcf043a6",
   "metadata": {},
   "source": [
    "### Set Up CUDA Device"
   ]
  },
  {
   "cell_type": "code",
   "execution_count": 2,
   "id": "c2784050-78d1-4553-8bce-93998b96312f",
   "metadata": {},
   "outputs": [],
   "source": [
    "device = torch.device(\"cuda\" if torch.cuda.is_available() else \"cpu\")\n",
    "n_gpu = torch.cuda.device_count()\n",
    "torch.cuda.get_device_name(0)\n",
    "\n",
    "SEED = 19\n",
    "\n",
    "random.seed(SEED)\n",
    "np.random.seed(SEED)\n",
    "torch.manual_seed(SEED)\n",
    "if device == torch.device(\"cuda\"):\n",
    "    torch.cuda.manual_seed_all(SEED)"
   ]
  },
  {
   "cell_type": "markdown",
   "id": "27031342-a5ae-41b2-8035-38706939e4eb",
   "metadata": {},
   "source": [
    "### Set up Tokenizer and Max Input Length"
   ]
  },
  {
   "cell_type": "code",
   "execution_count": 3,
   "id": "0259e3ca-758c-47f5-a9eb-263196529dc0",
   "metadata": {},
   "outputs": [],
   "source": [
    "MAX_LEN = 256\n",
    "tokenizer = BertTokenizer.from_pretrained('bert-base-uncased',do_lower_case=True)"
   ]
  },
  {
   "cell_type": "code",
   "execution_count": 5,
   "id": "75c3fcb1-85a7-4df5-a647-637c207f19ce",
   "metadata": {},
   "outputs": [],
   "source": [
    "def prep_input(input_text: str):\n",
    "    input_ids = tokenizer.encode(input_text, add_special_tokens=True,max_length=MAX_LEN,padding=\"max_length\",truncation=True)\n",
    "    attention_mask = [float(i>0) for i in input_ids]\n",
    "    return input_ids, attention_mask"
   ]
  },
  {
   "cell_type": "code",
   "execution_count": 5,
   "id": "7cb20b30-8155-408b-9c49-ce0f2260e155",
   "metadata": {},
   "outputs": [],
   "source": [
    "# model = BertForSequenceClassification.from_pretrained(\"model/\")\n",
    "# model.eval();"
   ]
  },
  {
   "cell_type": "markdown",
   "id": "9e3e435e-9348-4eb7-ac86-456f23131499",
   "metadata": {},
   "source": [
    "### TorchScript Tracing"
   ]
  },
  {
   "cell_type": "code",
   "execution_count": 12,
   "id": "5a6d55e1-44a6-4c4e-af01-4b7452e318cd",
   "metadata": {},
   "outputs": [],
   "source": [
    "# Tokenizing input text and creating attention mask\n",
    "text = \"I am feeling awfully sad right now.\"\n",
    "input_ids, attention_mask = prep_input(text)\n",
    "\n",
    "# Creating a dummy input\n",
    "input_tensor = torch.tensor([input_ids])\n",
    "attention_tensor = torch.tensor([attention_mask])\n",
    "dummy_input = [input_tensor, attention_tensor]\n",
    "\n",
    "# Initializing the model with torchscript flag\n",
    "model = BertForSequenceClassification.from_pretrained(\"model/\", torchscript=True)\n",
    "model.eval()\n",
    "\n",
    "# Creating the trace\n",
    "traced_model = torch.jit.trace(model, [input_tensor, attention_tensor])\n",
    "torch.jit.save(traced_model, \"cpp_implementation/traced_model.pt\")"
   ]
  },
  {
   "cell_type": "code",
   "execution_count": 11,
   "id": "92c80de0-a8b8-4e3c-a778-f51994978f2c",
   "metadata": {},
   "outputs": [
    {
     "data": {
      "text/plain": [
       "(tensor([[-1.9769, -1.6921, -1.8883, -0.9651,  7.1175, -1.5798]],\n",
       "        grad_fn=<AddmmBackward0>),)"
      ]
     },
     "execution_count": 11,
     "metadata": {},
     "output_type": "execute_result"
    }
   ],
   "source": [
    "traced_model(input_tensor, attention_tensor)"
   ]
  },
  {
   "cell_type": "code",
   "execution_count": 13,
   "id": "03d329ff-7c01-424b-a57d-82ab39f82971",
   "metadata": {},
   "outputs": [
    {
     "name": "stdout",
     "output_type": "stream",
     "text": [
      "([101, 1045, 2572, 3110, 9643, 2135, 6517, 2157, 2085, 1012, 102, 0, 0, 0, 0, 0, 0, 0, 0, 0, 0, 0, 0, 0, 0, 0, 0, 0, 0, 0, 0, 0, 0, 0, 0, 0, 0, 0, 0, 0, 0, 0, 0, 0, 0, 0, 0, 0, 0, 0, 0, 0, 0, 0, 0, 0, 0, 0, 0, 0, 0, 0, 0, 0, 0, 0, 0, 0, 0, 0, 0, 0, 0, 0, 0, 0, 0, 0, 0, 0, 0, 0, 0, 0, 0, 0, 0, 0, 0, 0, 0, 0, 0, 0, 0, 0, 0, 0, 0, 0, 0, 0, 0, 0, 0, 0, 0, 0, 0, 0, 0, 0, 0, 0, 0, 0, 0, 0, 0, 0, 0, 0, 0, 0, 0, 0, 0, 0, 0, 0, 0, 0, 0, 0, 0, 0, 0, 0, 0, 0, 0, 0, 0, 0, 0, 0, 0, 0, 0, 0, 0, 0, 0, 0, 0, 0, 0, 0, 0, 0, 0, 0, 0, 0, 0, 0, 0, 0, 0, 0, 0, 0, 0, 0, 0, 0, 0, 0, 0, 0, 0, 0, 0, 0, 0, 0, 0, 0, 0, 0, 0, 0, 0, 0, 0, 0, 0, 0, 0, 0, 0, 0, 0, 0, 0, 0, 0, 0, 0, 0, 0, 0, 0, 0, 0, 0, 0, 0, 0, 0, 0, 0, 0, 0, 0, 0, 0, 0, 0, 0, 0, 0, 0, 0, 0, 0, 0, 0, 0, 0, 0, 0, 0, 0, 0, 0, 0, 0, 0, 0, 0, 0, 0, 0, 0, 0], [1.0, 1.0, 1.0, 1.0, 1.0, 1.0, 1.0, 1.0, 1.0, 1.0, 1.0, 0.0, 0.0, 0.0, 0.0, 0.0, 0.0, 0.0, 0.0, 0.0, 0.0, 0.0, 0.0, 0.0, 0.0, 0.0, 0.0, 0.0, 0.0, 0.0, 0.0, 0.0, 0.0, 0.0, 0.0, 0.0, 0.0, 0.0, 0.0, 0.0, 0.0, 0.0, 0.0, 0.0, 0.0, 0.0, 0.0, 0.0, 0.0, 0.0, 0.0, 0.0, 0.0, 0.0, 0.0, 0.0, 0.0, 0.0, 0.0, 0.0, 0.0, 0.0, 0.0, 0.0, 0.0, 0.0, 0.0, 0.0, 0.0, 0.0, 0.0, 0.0, 0.0, 0.0, 0.0, 0.0, 0.0, 0.0, 0.0, 0.0, 0.0, 0.0, 0.0, 0.0, 0.0, 0.0, 0.0, 0.0, 0.0, 0.0, 0.0, 0.0, 0.0, 0.0, 0.0, 0.0, 0.0, 0.0, 0.0, 0.0, 0.0, 0.0, 0.0, 0.0, 0.0, 0.0, 0.0, 0.0, 0.0, 0.0, 0.0, 0.0, 0.0, 0.0, 0.0, 0.0, 0.0, 0.0, 0.0, 0.0, 0.0, 0.0, 0.0, 0.0, 0.0, 0.0, 0.0, 0.0, 0.0, 0.0, 0.0, 0.0, 0.0, 0.0, 0.0, 0.0, 0.0, 0.0, 0.0, 0.0, 0.0, 0.0, 0.0, 0.0, 0.0, 0.0, 0.0, 0.0, 0.0, 0.0, 0.0, 0.0, 0.0, 0.0, 0.0, 0.0, 0.0, 0.0, 0.0, 0.0, 0.0, 0.0, 0.0, 0.0, 0.0, 0.0, 0.0, 0.0, 0.0, 0.0, 0.0, 0.0, 0.0, 0.0, 0.0, 0.0, 0.0, 0.0, 0.0, 0.0, 0.0, 0.0, 0.0, 0.0, 0.0, 0.0, 0.0, 0.0, 0.0, 0.0, 0.0, 0.0, 0.0, 0.0, 0.0, 0.0, 0.0, 0.0, 0.0, 0.0, 0.0, 0.0, 0.0, 0.0, 0.0, 0.0, 0.0, 0.0, 0.0, 0.0, 0.0, 0.0, 0.0, 0.0, 0.0, 0.0, 0.0, 0.0, 0.0, 0.0, 0.0, 0.0, 0.0, 0.0, 0.0, 0.0, 0.0, 0.0, 0.0, 0.0, 0.0, 0.0, 0.0, 0.0, 0.0, 0.0, 0.0, 0.0, 0.0, 0.0, 0.0, 0.0, 0.0, 0.0, 0.0, 0.0, 0.0, 0.0, 0.0, 0.0, 0.0, 0.0, 0.0, 0.0, 0.0, 0.0])\n"
     ]
    }
   ],
   "source": [
    "text = \"I am feeling awfully sad right now.\"\n",
    "print(prep_input(text))"
   ]
  },
  {
   "cell_type": "code",
   "execution_count": null,
   "id": "49039a7f-6397-48b4-b229-886dfe2a080c",
   "metadata": {},
   "outputs": [],
   "source": []
  }
 ],
 "metadata": {
  "kernelspec": {
   "display_name": "default",
   "language": "python",
   "name": "default"
  },
  "language_info": {
   "codemirror_mode": {
    "name": "ipython",
    "version": 3
   },
   "file_extension": ".py",
   "mimetype": "text/x-python",
   "name": "python",
   "nbconvert_exporter": "python",
   "pygments_lexer": "ipython3",
   "version": "3.10.11"
  }
 },
 "nbformat": 4,
 "nbformat_minor": 5
}
