{
 "cells": [
  {
   "cell_type": "markdown",
   "id": "58b1e5d1-af9e-466c-ac03-7b2276849c12",
   "metadata": {},
   "source": [
    "# Emotion Classifier Using mlpack\n",
    "This notebook is an attempt at using mlpack to classify the emotional content of text inputs. The dataset used to train this model was obtained from Kaggle, from the [Emotion dataset for NLP](https://www.kaggle.com/datasets/praveengovi/emotions-dataset-for-nlp)."
   ]
  },
  {
   "cell_type": "code",
   "execution_count": 1,
   "id": "55be4437-7189-4a06-b2a0-91444269bdd6",
   "metadata": {},
   "outputs": [],
   "source": [
    "import mlpack\n",
    "import pandas as pd\n",
    "import numpy as np"
   ]
  },
  {
   "cell_type": "code",
   "execution_count": 2,
   "id": "1cba1be0-115d-4d77-8ba5-712c38cb7635",
   "metadata": {},
   "outputs": [],
   "source": [
    "# Load emotions dataset for NLP from Kaggle\n",
    "df = pd.read_csv(\"data/train.txt\", delimiter = \";\", names = [\"text\", \"label\"])"
   ]
  },
  {
   "cell_type": "code",
   "execution_count": 3,
   "id": "6a8055da-c2c2-433c-97b4-8a85cb5c2414",
   "metadata": {},
   "outputs": [],
   "source": [
    "# Split the labels\n",
    "labels = df[\"label\"]\n",
    "dataset = df.drop(\"label\", axis = 1)"
   ]
  },
  {
   "cell_type": "code",
   "execution_count": 4,
   "id": "f2c129e6-d93f-432f-a2c9-cd781122bc20",
   "metadata": {},
   "outputs": [
    {
     "data": {
      "text/plain": [
       "joy         5362\n",
       "sadness     4666\n",
       "anger       2159\n",
       "fear        1937\n",
       "love        1304\n",
       "surprise     572\n",
       "Name: label, dtype: int64"
      ]
     },
     "execution_count": 4,
     "metadata": {},
     "output_type": "execute_result"
    }
   ],
   "source": [
    "labels.value_counts()"
   ]
  },
  {
   "cell_type": "code",
   "execution_count": 9,
   "id": "e15baad7-5a11-4dc2-971a-91332ae5f504",
   "metadata": {},
   "outputs": [
    {
     "name": "stdout",
     "output_type": "stream",
     "text": [
      "✔ Download and installation successful\n",
      "You can now load the package via spacy.load('en_core_web_md')\n"
     ]
    }
   ],
   "source": [
    "import spacy\n",
    "from spacy import cli\n",
    "cli.download(\"en_core_web_md\")\n",
    "nlp=spacy.load('en_core_web_md');"
   ]
  },
  {
   "cell_type": "code",
   "execution_count": 5,
   "id": "d628d70c-fb2a-4648-bda0-56280443ddfa",
   "metadata": {},
   "outputs": [],
   "source": [
    "# Creating preprocess function to preprocess the data\n",
    "import re\n",
    "\n",
    "def preprocess(text):\n",
    " # Removing white spaces from our data\n",
    "  text=re.sub(\" +\",\" \",text);\n",
    " # Converting the text to lower case\n",
    "  text=text.lower();\n",
    " # Word tokenization\n",
    "  doc=nlp(text);\n",
    " # Removing stop words punctuations and doing Lemmatization\n",
    "  filtered_words=[token.lemma_ for token in doc if not token.is_stop and not token.is_punct];\n",
    "  \n",
    "  return \" \".join(filtered_words);"
   ]
  },
  {
   "cell_type": "code",
   "execution_count": 10,
   "id": "0ed377e9-7d9c-45eb-bb4a-5ad01f26cea3",
   "metadata": {},
   "outputs": [],
   "source": [
    "df['preprocessed']=df['text'].apply(preprocess);"
   ]
  },
  {
   "cell_type": "code",
   "execution_count": 11,
   "id": "1d4dae7d-4953-4881-998a-a8d147c4a529",
   "metadata": {},
   "outputs": [
    {
     "data": {
      "text/html": [
       "<div>\n",
       "<style scoped>\n",
       "    .dataframe tbody tr th:only-of-type {\n",
       "        vertical-align: middle;\n",
       "    }\n",
       "\n",
       "    .dataframe tbody tr th {\n",
       "        vertical-align: top;\n",
       "    }\n",
       "\n",
       "    .dataframe thead th {\n",
       "        text-align: right;\n",
       "    }\n",
       "</style>\n",
       "<table border=\"1\" class=\"dataframe\">\n",
       "  <thead>\n",
       "    <tr style=\"text-align: right;\">\n",
       "      <th></th>\n",
       "      <th>text</th>\n",
       "      <th>label</th>\n",
       "      <th>preprocessed</th>\n",
       "    </tr>\n",
       "  </thead>\n",
       "  <tbody>\n",
       "    <tr>\n",
       "      <th>0</th>\n",
       "      <td>i didnt feel humiliated</td>\n",
       "      <td>sadness</td>\n",
       "      <td>not feel humiliate</td>\n",
       "    </tr>\n",
       "    <tr>\n",
       "      <th>1</th>\n",
       "      <td>i can go from feeling so hopeless to so damned...</td>\n",
       "      <td>sadness</td>\n",
       "      <td>feel hopeless damn hopeful care awake</td>\n",
       "    </tr>\n",
       "    <tr>\n",
       "      <th>2</th>\n",
       "      <td>im grabbing a minute to post i feel greedy wrong</td>\n",
       "      <td>anger</td>\n",
       "      <td>m grab minute post feel greedy wrong</td>\n",
       "    </tr>\n",
       "    <tr>\n",
       "      <th>3</th>\n",
       "      <td>i am ever feeling nostalgic about the fireplac...</td>\n",
       "      <td>love</td>\n",
       "      <td>feel nostalgic fireplace know property</td>\n",
       "    </tr>\n",
       "    <tr>\n",
       "      <th>4</th>\n",
       "      <td>i am feeling grouchy</td>\n",
       "      <td>anger</td>\n",
       "      <td>feel grouchy</td>\n",
       "    </tr>\n",
       "    <tr>\n",
       "      <th>...</th>\n",
       "      <td>...</td>\n",
       "      <td>...</td>\n",
       "      <td>...</td>\n",
       "    </tr>\n",
       "    <tr>\n",
       "      <th>15995</th>\n",
       "      <td>i just had a very brief time in the beanbag an...</td>\n",
       "      <td>sadness</td>\n",
       "      <td>brief time beanbag say anna feel like beat</td>\n",
       "    </tr>\n",
       "    <tr>\n",
       "      <th>15996</th>\n",
       "      <td>i am now turning and i feel pathetic that i am...</td>\n",
       "      <td>sadness</td>\n",
       "      <td>turn feel pathetic wait table sub teaching degree</td>\n",
       "    </tr>\n",
       "    <tr>\n",
       "      <th>15997</th>\n",
       "      <td>i feel strong and good overall</td>\n",
       "      <td>joy</td>\n",
       "      <td>feel strong good overall</td>\n",
       "    </tr>\n",
       "    <tr>\n",
       "      <th>15998</th>\n",
       "      <td>i feel like this was such a rude comment and i...</td>\n",
       "      <td>anger</td>\n",
       "      <td>feel like rude comment m glad t</td>\n",
       "    </tr>\n",
       "    <tr>\n",
       "      <th>15999</th>\n",
       "      <td>i know a lot but i feel so stupid because i ca...</td>\n",
       "      <td>sadness</td>\n",
       "      <td>know lot feel stupid portray</td>\n",
       "    </tr>\n",
       "  </tbody>\n",
       "</table>\n",
       "<p>16000 rows × 3 columns</p>\n",
       "</div>"
      ],
      "text/plain": [
       "                                                    text    label  \\\n",
       "0                                i didnt feel humiliated  sadness   \n",
       "1      i can go from feeling so hopeless to so damned...  sadness   \n",
       "2       im grabbing a minute to post i feel greedy wrong    anger   \n",
       "3      i am ever feeling nostalgic about the fireplac...     love   \n",
       "4                                   i am feeling grouchy    anger   \n",
       "...                                                  ...      ...   \n",
       "15995  i just had a very brief time in the beanbag an...  sadness   \n",
       "15996  i am now turning and i feel pathetic that i am...  sadness   \n",
       "15997                     i feel strong and good overall      joy   \n",
       "15998  i feel like this was such a rude comment and i...    anger   \n",
       "15999  i know a lot but i feel so stupid because i ca...  sadness   \n",
       "\n",
       "                                            preprocessed  \n",
       "0                                     not feel humiliate  \n",
       "1                  feel hopeless damn hopeful care awake  \n",
       "2                   m grab minute post feel greedy wrong  \n",
       "3                 feel nostalgic fireplace know property  \n",
       "4                                           feel grouchy  \n",
       "...                                                  ...  \n",
       "15995         brief time beanbag say anna feel like beat  \n",
       "15996  turn feel pathetic wait table sub teaching degree  \n",
       "15997                           feel strong good overall  \n",
       "15998                    feel like rude comment m glad t  \n",
       "15999                       know lot feel stupid portray  \n",
       "\n",
       "[16000 rows x 3 columns]"
      ]
     },
     "execution_count": 11,
     "metadata": {},
     "output_type": "execute_result"
    }
   ],
   "source": [
    "df"
   ]
  },
  {
   "cell_type": "code",
   "execution_count": 12,
   "id": "40edbd06-ac4b-428e-9228-365ae5a4ec5e",
   "metadata": {},
   "outputs": [],
   "source": [
    "# First we will use Tf-idf and multinomial naive bayes \n",
    "# Imports \n",
    "from sklearn.naive_bayes import MultinomialNB\n",
    "from sklearn.feature_extraction.text import TfidfVectorizer\n",
    "from sklearn.pipeline import Pipeline\n",
    "from sklearn.model_selection import train_test_split"
   ]
  },
  {
   "cell_type": "code",
   "execution_count": 21,
   "id": "e3c6c2c5-78c3-4ed3-9b5e-71d15fcba9f3",
   "metadata": {},
   "outputs": [],
   "source": [
    "features=df['preprocessed'];\n",
    "labels=df['label'];\n",
    "labels=labels.map({'joy':0,'anger':1,'fear':2,'sadness':3, 'love':4, 'surprise':5});"
   ]
  },
  {
   "cell_type": "code",
   "execution_count": 22,
   "id": "d857b215-aafb-467f-8ec3-cf37746170dd",
   "metadata": {},
   "outputs": [],
   "source": [
    "# Train test splitting the the data.\n",
    "X_train,X_test,Y_train,Y_test=train_test_split(features,labels,test_size=0.2,random_state=1000);"
   ]
  },
  {
   "cell_type": "code",
   "execution_count": 23,
   "id": "dbc552c4-8bcf-491f-82f9-17e8d2fd0d9c",
   "metadata": {},
   "outputs": [
    {
     "data": {
      "text/plain": [
       "5887     go work feel agitated lazy transform state yel...\n",
       "12564           think d get mark question make feel clever\n",
       "3195                        try let anxiety feel unwelcome\n",
       "13295         feel weepy today sure feel well tomorrow xxx\n",
       "14214                                    feel dazed desert\n",
       "                               ...                        \n",
       "15611                                hate feel like stupid\n",
       "3776                                feel utterly devastate\n",
       "6215     report dear soul energy feel strange today won...\n",
       "4695          love smell make feel invigorated fresh happy\n",
       "9651     think fair life want feel sincere connection p...\n",
       "Name: preprocessed, Length: 12800, dtype: object"
      ]
     },
     "execution_count": 23,
     "metadata": {},
     "output_type": "execute_result"
    }
   ],
   "source": [
    "X_train"
   ]
  },
  {
   "cell_type": "code",
   "execution_count": 24,
   "id": "eaa78d34-e0f6-40e9-848a-bc8110ac3670",
   "metadata": {},
   "outputs": [
    {
     "data": {
      "text/plain": [
       "5887     1\n",
       "12564    0\n",
       "3195     3\n",
       "13295    3\n",
       "14214    5\n",
       "        ..\n",
       "15611    3\n",
       "3776     3\n",
       "6215     2\n",
       "4695     0\n",
       "9651     0\n",
       "Name: label, Length: 12800, dtype: int64"
      ]
     },
     "execution_count": 24,
     "metadata": {},
     "output_type": "execute_result"
    }
   ],
   "source": [
    "Y_train"
   ]
  },
  {
   "cell_type": "code",
   "execution_count": 36,
   "id": "779013cd-0624-474c-aff8-ab71a9a48927",
   "metadata": {},
   "outputs": [],
   "source": [
    "clf=RandomizedSearchCV(RandomForestClassifier(),params);\n",
    "vectorizer=TfidfVectorizer();\n",
    "x_train=vectorizer.fit_transform(X_train);"
   ]
  },
  {
   "cell_type": "code",
   "execution_count": 37,
   "id": "669b6810-85cb-42c6-a07f-e8d462ba0a49",
   "metadata": {},
   "outputs": [
    {
     "data": {
      "text/plain": [
       "<12800x10569 sparse matrix of type '<class 'numpy.float64'>'\n",
       "\twith 99244 stored elements in Compressed Sparse Row format>"
      ]
     },
     "execution_count": 37,
     "metadata": {},
     "output_type": "execute_result"
    }
   ],
   "source": [
    "x_train"
   ]
  },
  {
   "cell_type": "code",
   "execution_count": 43,
   "id": "863e515a-ca5f-4530-b23d-ae080d89301c",
   "metadata": {},
   "outputs": [
    {
     "data": {
      "text/plain": [
       "<1x10569 sparse matrix of type '<class 'numpy.float64'>'\n",
       "\twith 10 stored elements in Compressed Sparse Row format>"
      ]
     },
     "execution_count": 43,
     "metadata": {},
     "output_type": "execute_result"
    }
   ],
   "source": [
    "x_train[0]"
   ]
  },
  {
   "cell_type": "code",
   "execution_count": 44,
   "id": "e941703a-b7d4-4344-9588-226539d22256",
   "metadata": {},
   "outputs": [
    {
     "data": {
      "text/plain": [
       "scipy.sparse._csr.csr_matrix"
      ]
     },
     "execution_count": 44,
     "metadata": {},
     "output_type": "execute_result"
    }
   ],
   "source": [
    "type(x_train)"
   ]
  },
  {
   "cell_type": "code",
   "execution_count": null,
   "id": "783f8690-9c26-45b0-99fa-cea9c20c9de4",
   "metadata": {},
   "outputs": [],
   "source": []
  }
 ],
 "metadata": {
  "kernelspec": {
   "display_name": "Python 3 (ipykernel)",
   "language": "python",
   "name": "python3"
  },
  "language_info": {
   "codemirror_mode": {
    "name": "ipython",
    "version": 3
   },
   "file_extension": ".py",
   "mimetype": "text/x-python",
   "name": "python",
   "nbconvert_exporter": "python",
   "pygments_lexer": "ipython3",
   "version": "3.10.11"
  }
 },
 "nbformat": 4,
 "nbformat_minor": 5
}
