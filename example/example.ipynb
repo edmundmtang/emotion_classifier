{
 "cells": [
  {
   "cell_type": "code",
   "execution_count": 3,
   "id": "d754bec6-c831-4e4a-8ddd-ca94b45601ee",
   "metadata": {},
   "outputs": [
    {
     "name": "stdout",
     "output_type": "stream",
     "text": [
      "24307 correct out of 30000 (81.02333333333333%).\n"
     ]
    }
   ],
   "source": [
    "import mlpack\n",
    "import pandas as pd\n",
    "import numpy as np\n",
    "\n",
    "# Load the dataset from an online URL.  Replace with \"covertype.csv.gz\" if you\n",
    "# want to use on the full dataset.\n",
    "df = pd.read_csv(\"example/covertype-small.csv\")\n",
    "\n",
    "# Split the labels.\n",
    "labels = df[\"label\"]\n",
    "dataset = df.drop(\"label\", axis=1)\n",
    "\n",
    "# Split the dataset using mlpack.  The output comes back as a dictionary,\n",
    "# which we will unpack for clarity of code.\n",
    "output = mlpack.preprocess_split(input_=dataset,\n",
    "                                 input_labels=labels,\n",
    "                                 test_ratio=0.3)\n",
    "training_set = output[\"training\"]\n",
    "training_labels = output[\"training_labels\"]\n",
    "test_set = output[\"test\"]\n",
    "test_labels = output[\"test_labels\"]\n",
    "\n",
    "# Train a random forest.\n",
    "output = mlpack.random_forest(training=training_set,\n",
    "                              labels=training_labels,\n",
    "                              print_training_accuracy=True,\n",
    "                              num_trees=10,\n",
    "                              minimum_leaf_size=3)\n",
    "random_forest = output[\"output_model\"]\n",
    "\n",
    "# Predict the labels of the test points.\n",
    "output = mlpack.random_forest(input_model=random_forest,\n",
    "                              test=test_set)\n",
    "\n",
    "# Now print the accuracy.  The \"probabilities\" output could also be used\n",
    "# to generate an ROC curve.\n",
    "correct = np.sum(\n",
    "    output[\"predictions\"] == np.reshape(test_labels, (test_labels.shape[0],)))\n",
    "print(str(correct) + \" correct out of \" + str(len(test_labels)) + \" (\" + \n",
    "    str(100 * float(correct) / float(len(test_labels))) + \"%).\")"
   ]
  },
  {
   "cell_type": "code",
   "execution_count": 4,
   "id": "4191c8a7-c62d-4328-aae1-fd07261d9419",
   "metadata": {},
   "outputs": [
    {
     "data": {
      "text/plain": [
       "array([[3027.,   54.,   11., ...,    0.,    0.,    0.],\n",
       "       [3070.,   93.,   10., ...,    0.,    0.,    0.],\n",
       "       [2832.,  101.,   12., ...,    0.,    0.,    0.],\n",
       "       ...,\n",
       "       [3202.,  238.,    4., ...,    0.,    0.,    0.],\n",
       "       [3176.,    4.,   15., ...,    0.,    0.,    0.],\n",
       "       [2770.,   91.,   13., ...,    0.,    0.,    0.]])"
      ]
     },
     "execution_count": 4,
     "metadata": {},
     "output_type": "execute_result"
    }
   ],
   "source": [
    "training_set"
   ]
  },
  {
   "cell_type": "code",
   "execution_count": null,
   "id": "06948973-2b4a-4c28-92a8-7f975ab819fd",
   "metadata": {},
   "outputs": [],
   "source": []
  }
 ],
 "metadata": {
  "kernelspec": {
   "display_name": "Python 3 (ipykernel)",
   "language": "python",
   "name": "python3"
  },
  "language_info": {
   "codemirror_mode": {
    "name": "ipython",
    "version": 3
   },
   "file_extension": ".py",
   "mimetype": "text/x-python",
   "name": "python",
   "nbconvert_exporter": "python",
   "pygments_lexer": "ipython3",
   "version": "3.10.5"
  }
 },
 "nbformat": 4,
 "nbformat_minor": 5
}
